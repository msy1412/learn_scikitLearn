{
 "cells": [
  {
   "cell_type": "code",
   "execution_count": 1,
   "metadata": {},
   "outputs": [],
   "source": [
    "import numpy as np\n",
    "import matplotlib.pyplot as plt\n",
    "from sklearn.naive_bayes import GaussianNB\n",
    "from sklearn.svm import SVC\n",
    "from sklearn.ensemble import RandomForestClassifier as RFC\n",
    "from sklearn.tree import DecisionTreeClassifier as DTC\n",
    "from sklearn.linear_model import LogisticRegression as LR\n",
    "from sklearn.datasets import load_digits\n",
    "from sklearn.model_selection import learning_curve #画学习曲线\n",
    "from sklearn.model_selection import ShuffleSplit #设定交叉验证模式\n",
    "from time import time\n",
    "import datetime"
   ]
  },
  {
   "cell_type": "code",
   "execution_count": 3,
   "metadata": {},
   "outputs": [],
   "source": [
    "digi = load_digits()\n",
    "x,y = digi.data,digi.target"
   ]
  },
  {
   "cell_type": "code",
   "execution_count": 4,
   "metadata": {},
   "outputs": [
    {
     "data": {
      "text/plain": [
       "(1797, 64)"
      ]
     },
     "execution_count": 4,
     "metadata": {},
     "output_type": "execute_result"
    }
   ],
   "source": [
    "x.shape"
   ]
  },
  {
   "cell_type": "code",
   "execution_count": 6,
   "metadata": {},
   "outputs": [
    {
     "data": {
      "text/plain": [
       "array([[ 0.,  0.,  5., ...,  0.,  0.,  0.],\n",
       "       [ 0.,  0.,  0., ..., 10.,  0.,  0.],\n",
       "       [ 0.,  0.,  0., ..., 16.,  9.,  0.],\n",
       "       ...,\n",
       "       [ 0.,  0.,  1., ...,  6.,  0.,  0.],\n",
       "       [ 0.,  0.,  2., ..., 12.,  0.,  0.],\n",
       "       [ 0.,  0., 10., ..., 12.,  1.,  0.]])"
      ]
     },
     "execution_count": 6,
     "metadata": {},
     "output_type": "execute_result"
    }
   ],
   "source": [
    "x #是一个稀疏矩阵"
   ]
  },
  {
   "cell_type": "code",
   "execution_count": 28,
   "metadata": {},
   "outputs": [],
   "source": [
    "clf = GaussianNB()\n",
    "cv = ShuffleSplit(n_splits=50 #将数据分为几份\n",
    "                  ,test_size=0.2 #20% *50 份的数据会被作为测试集\n",
    "                  ,random_state=1 #分交叉验证的份数的时候,进行的随机抽样模式\n",
    "                  )"
   ]
  },
  {
   "cell_type": "code",
   "execution_count": 29,
   "metadata": {},
   "outputs": [],
   "source": [
    "train_sizes, train_scores, test_scores = learning_curve(clf, x, y\n",
    "                                                        ,cv=cv #表示交叉验证模式\n",
    "                                                        ,n_jobs=3)    "
   ]
  },
  {
   "cell_type": "code",
   "execution_count": 30,
   "metadata": {},
   "outputs": [
    {
     "data": {
      "text/plain": [
       "array([ 143,  467,  790, 1113, 1437])"
      ]
     },
     "execution_count": 30,
     "metadata": {},
     "output_type": "execute_result"
    }
   ],
   "source": [
    "train_sizes #每次分训练集和测试集建模之后, 训练集上的样本数量"
   ]
  },
  {
   "cell_type": "code",
   "execution_count": 31,
   "metadata": {},
   "outputs": [
    {
     "data": {
      "text/plain": [
       "(5, 50)"
      ]
     },
     "execution_count": 31,
     "metadata": {},
     "output_type": "execute_result"
    }
   ],
   "source": [
    "train_scores.shape"
   ]
  },
  {
   "cell_type": "code",
   "execution_count": 32,
   "metadata": {},
   "outputs": [
    {
     "data": {
      "text/plain": [
       "array([[0.95804196, 0.94405594, 0.97202797, 0.97902098, 0.95104895,\n",
       "        0.97202797, 0.96503497, 0.93706294, 0.88111888, 0.95104895,\n",
       "        0.93706294, 0.94405594, 0.99300699, 0.97202797, 0.96503497,\n",
       "        0.96503497, 0.94405594, 0.8951049 , 0.93006993, 0.97902098,\n",
       "        0.83216783, 0.95804196, 0.95104895, 0.95804196, 0.97202797,\n",
       "        0.96503497, 0.92307692, 0.95804196, 0.96503497, 0.90909091,\n",
       "        0.91608392, 0.95104895, 0.90909091, 0.95104895, 0.98601399,\n",
       "        0.95104895, 0.93706294, 0.96503497, 0.96503497, 0.92307692,\n",
       "        0.95104895, 0.95804196, 0.87412587, 0.97902098, 0.95104895,\n",
       "        0.95104895, 0.97202797, 0.91608392, 0.97202797, 0.9020979 ],\n",
       "       [0.84582441, 0.8993576 , 0.91648822, 0.9143469 , 0.90578158,\n",
       "        0.90149893, 0.88222698, 0.87366167, 0.8993576 , 0.88222698,\n",
       "        0.92077088, 0.87152034, 0.90149893, 0.92933619, 0.91220557,\n",
       "        0.87366167, 0.8993576 , 0.86723769, 0.90149893, 0.9143469 ,\n",
       "        0.88865096, 0.88650964, 0.90364026, 0.88865096, 0.90792291,\n",
       "        0.89721627, 0.85010707, 0.90149893, 0.875803  , 0.85653105,\n",
       "        0.87794433, 0.88865096, 0.91648822, 0.90149893, 0.90578158,\n",
       "        0.88650964, 0.87152034, 0.88436831, 0.84154176, 0.83940043,\n",
       "        0.92291221, 0.86937901, 0.85010707, 0.88650964, 0.90364026,\n",
       "        0.90149893, 0.92291221, 0.89293362, 0.9143469 , 0.88008565],\n",
       "       [0.84936709, 0.89113924, 0.83670886, 0.90379747, 0.87721519,\n",
       "        0.87594937, 0.87468354, 0.90126582, 0.88734177, 0.86962025,\n",
       "        0.89873418, 0.83797468, 0.89620253, 0.87848101, 0.89873418,\n",
       "        0.86329114, 0.88860759, 0.8721519 , 0.84050633, 0.88227848,\n",
       "        0.89493671, 0.84303797, 0.90759494, 0.87468354, 0.86582278,\n",
       "        0.86329114, 0.83417722, 0.91139241, 0.87594937, 0.86962025,\n",
       "        0.84810127, 0.85316456, 0.90379747, 0.85949367, 0.83797468,\n",
       "        0.84683544, 0.84177215, 0.81518987, 0.82405063, 0.85189873,\n",
       "        0.86962025, 0.86962025, 0.83670886, 0.88734177, 0.84810127,\n",
       "        0.8443038 , 0.88607595, 0.86455696, 0.8835443 , 0.85696203],\n",
       "       [0.82120395, 0.85714286, 0.84456424, 0.84815813, 0.86073675,\n",
       "        0.86702606, 0.85354897, 0.87780773, 0.86972147, 0.83108715,\n",
       "        0.85714286, 0.8230009 , 0.88409704, 0.8427673 , 0.87241689,\n",
       "        0.88589398, 0.89487871, 0.8885894 , 0.86073675, 0.87331536,\n",
       "        0.85624438, 0.83827493, 0.9047619 , 0.84456424, 0.86343217,\n",
       "        0.8032345 , 0.8589398 , 0.87241689, 0.88140162, 0.85534591,\n",
       "        0.85085355, 0.86343217, 0.87511231, 0.85624438, 0.85983827,\n",
       "        0.8490566 , 0.85804133, 0.8427673 , 0.84456424, 0.87421384,\n",
       "        0.87151842, 0.8787062 , 0.86972147, 0.87960467, 0.86522911,\n",
       "        0.83737646, 0.85085355, 0.85175202, 0.86433064, 0.83108715],\n",
       "       [0.8677801 , 0.8670842 , 0.83785665, 0.86082116, 0.87334725,\n",
       "        0.85942937, 0.83437717, 0.87682672, 0.85803758, 0.82463466,\n",
       "        0.85107864, 0.82324287, 0.88448156, 0.82185108, 0.86569241,\n",
       "        0.88587335, 0.87682672, 0.87752262, 0.85316632, 0.86569241,\n",
       "        0.87473904, 0.86082116, 0.85455811, 0.85455811, 0.8308977 ,\n",
       "        0.79053584, 0.87056367, 0.86360473, 0.87891441, 0.86012526,\n",
       "        0.86847599, 0.84829506, 0.86290884, 0.85942937, 0.86569241,\n",
       "        0.855254  , 0.85177453, 0.84203201, 0.86569241, 0.88100209,\n",
       "        0.84133612, 0.87334725, 0.86151705, 0.86151705, 0.86847599,\n",
       "        0.84133612, 0.84759916, 0.84620738, 0.82324287, 0.83785665]])"
      ]
     },
     "execution_count": 32,
     "metadata": {},
     "output_type": "execute_result"
    }
   ],
   "source": [
    "train_scores"
   ]
  },
  {
   "cell_type": "code",
   "execution_count": 33,
   "metadata": {},
   "outputs": [
    {
     "data": {
      "text/plain": [
       "(5, 50)"
      ]
     },
     "execution_count": 33,
     "metadata": {},
     "output_type": "execute_result"
    }
   ],
   "source": [
    "test_scores.shape"
   ]
  },
  {
   "cell_type": "code",
   "execution_count": 34,
   "metadata": {},
   "outputs": [
    {
     "data": {
      "text/plain": [
       "array([[0.80277778, 0.76666667, 0.76666667, 0.79166667, 0.73333333,\n",
       "        0.76944444, 0.80277778, 0.73888889, 0.725     , 0.78333333,\n",
       "        0.75833333, 0.78333333, 0.78055556, 0.83055556, 0.76111111,\n",
       "        0.82777778, 0.69166667, 0.75      , 0.725     , 0.79722222,\n",
       "        0.70555556, 0.80555556, 0.75      , 0.75277778, 0.78888889,\n",
       "        0.78888889, 0.71666667, 0.78611111, 0.71111111, 0.85      ,\n",
       "        0.775     , 0.75833333, 0.79166667, 0.78055556, 0.83333333,\n",
       "        0.7       , 0.77777778, 0.75833333, 0.77222222, 0.8       ,\n",
       "        0.78888889, 0.74166667, 0.73611111, 0.79722222, 0.73611111,\n",
       "        0.73888889, 0.78333333, 0.79444444, 0.775     , 0.775     ],\n",
       "       [0.81111111, 0.85833333, 0.825     , 0.86388889, 0.81111111,\n",
       "        0.89166667, 0.81111111, 0.81944444, 0.80555556, 0.83055556,\n",
       "        0.84722222, 0.78333333, 0.81944444, 0.9       , 0.83888889,\n",
       "        0.825     , 0.85      , 0.81666667, 0.85      , 0.85833333,\n",
       "        0.85      , 0.81944444, 0.83333333, 0.81111111, 0.85555556,\n",
       "        0.825     , 0.85      , 0.83333333, 0.80833333, 0.85555556,\n",
       "        0.80277778, 0.81388889, 0.86111111, 0.84722222, 0.84444444,\n",
       "        0.83611111, 0.86111111, 0.84166667, 0.77777778, 0.80555556,\n",
       "        0.88611111, 0.775     , 0.81111111, 0.875     , 0.86944444,\n",
       "        0.87222222, 0.82777778, 0.84444444, 0.82222222, 0.81944444],\n",
       "       [0.82222222, 0.85      , 0.81666667, 0.86666667, 0.84166667,\n",
       "        0.85833333, 0.825     , 0.88888889, 0.83888889, 0.81666667,\n",
       "        0.85833333, 0.78055556, 0.83333333, 0.83611111, 0.88333333,\n",
       "        0.82222222, 0.86666667, 0.84166667, 0.79166667, 0.87222222,\n",
       "        0.86111111, 0.82777778, 0.88888889, 0.84722222, 0.88055556,\n",
       "        0.81666667, 0.84444444, 0.85555556, 0.86111111, 0.86111111,\n",
       "        0.82222222, 0.82222222, 0.85555556, 0.85      , 0.825     ,\n",
       "        0.82222222, 0.84166667, 0.81666667, 0.78333333, 0.84444444,\n",
       "        0.86666667, 0.825     , 0.81111111, 0.88611111, 0.83611111,\n",
       "        0.88055556, 0.81111111, 0.85833333, 0.83055556, 0.82777778],\n",
       "       [0.8       , 0.82222222, 0.82222222, 0.84444444, 0.84444444,\n",
       "        0.84166667, 0.81666667, 0.86944444, 0.81388889, 0.78611111,\n",
       "        0.87777778, 0.79166667, 0.83055556, 0.81111111, 0.85      ,\n",
       "        0.85555556, 0.875     , 0.86666667, 0.83333333, 0.84722222,\n",
       "        0.825     , 0.81944444, 0.89166667, 0.82222222, 0.86666667,\n",
       "        0.78055556, 0.84444444, 0.84444444, 0.86388889, 0.85      ,\n",
       "        0.82777778, 0.83888889, 0.86944444, 0.83611111, 0.83333333,\n",
       "        0.81944444, 0.85      , 0.86388889, 0.80833333, 0.86944444,\n",
       "        0.875     , 0.83333333, 0.85833333, 0.87222222, 0.83055556,\n",
       "        0.88055556, 0.81388889, 0.86388889, 0.82222222, 0.80833333],\n",
       "       [0.85277778, 0.82777778, 0.80833333, 0.83888889, 0.84166667,\n",
       "        0.85      , 0.81111111, 0.84444444, 0.79444444, 0.80277778,\n",
       "        0.88055556, 0.80555556, 0.83333333, 0.81111111, 0.84166667,\n",
       "        0.87777778, 0.86388889, 0.86388889, 0.81111111, 0.85833333,\n",
       "        0.87222222, 0.84722222, 0.86388889, 0.82222222, 0.82222222,\n",
       "        0.77222222, 0.83888889, 0.82777778, 0.85555556, 0.86388889,\n",
       "        0.85277778, 0.83888889, 0.85      , 0.84444444, 0.84444444,\n",
       "        0.83055556, 0.85555556, 0.86666667, 0.83333333, 0.86666667,\n",
       "        0.83888889, 0.84444444, 0.85277778, 0.86111111, 0.84166667,\n",
       "        0.88611111, 0.82222222, 0.86944444, 0.81388889, 0.81944444]])"
      ]
     },
     "execution_count": 34,
     "metadata": {},
     "output_type": "execute_result"
    }
   ],
   "source": [
    "test_scores"
   ]
  },
  {
   "cell_type": "code",
   "execution_count": 35,
   "metadata": {},
   "outputs": [],
   "source": [
    "def plot_learning_curve(estimator, #分类器\n",
    "                        title, \n",
    "                        X, y, #特征矩阵与标签\n",
    "                        ax, #选择子图\n",
    "                        ylim=None, #设置纵坐标的取值范围\n",
    "                        cv=None, #交叉验证\n",
    "                        n_jobs=None #设定索要使用的线程\n",
    "                       ):\n",
    "    \n",
    "    #\n",
    "    train_sizes, train_scores, test_scores = learning_curve(estimator, X, y\n",
    "                                                            ,cv=cv #表示交叉验证模式\n",
    "                                                            ,n_jobs=n_jobs)    \n",
    "    ax.set_title(title)\n",
    "    if ylim is not None:\n",
    "        ax.set_ylim(*ylim)\n",
    "    ax.set_xlabel(\"Training examples\")\n",
    "    ax.set_ylabel(\"Score\")\n",
    "    ax.grid() #显示网格作为背景，不是必须\n",
    "    ax.plot(train_sizes, np.mean(train_scores, axis=1), 'o-'\n",
    "           , color=\"r\",label=\"Training score\")                #训练图像\n",
    "    ax.plot(train_sizes, np.mean(test_scores, axis=1), 'o-' \n",
    "           , color=\"g\",label=\"Test score\")                    #测试图像\n",
    "    ax.legend(loc=\"best\")\n",
    "    return ax"
   ]
  },
  {
   "cell_type": "code",
   "execution_count": 36,
   "metadata": {},
   "outputs": [],
   "source": [
    "title = [\"Naive Bayes\",\"DecisionTree\",\"SVM, RBF kernel\",\"RandomForest\",\"Logistic\"] \n",
    "model = [GaussianNB(),DTC(),SVC(gamma=0.001),RFC(n_estimators=50),LR(C=.1,solver=\"lbfgs\")]"
   ]
  },
  {
   "cell_type": "code",
   "execution_count": 37,
   "metadata": {},
   "outputs": [
    {
     "data": {
      "text/plain": [
       "[(0, 'Naive Bayes', GaussianNB(priors=None, var_smoothing=1e-09)),\n",
       " (1,\n",
       "  'DecisionTree',\n",
       "  DecisionTreeClassifier(class_weight=None, criterion='gini', max_depth=None,\n",
       "                         max_features=None, max_leaf_nodes=None,\n",
       "                         min_impurity_decrease=0.0, min_impurity_split=None,\n",
       "                         min_samples_leaf=1, min_samples_split=2,\n",
       "                         min_weight_fraction_leaf=0.0, presort=False,\n",
       "                         random_state=None, splitter='best')),\n",
       " (2,\n",
       "  'SVM, RBF kernel',\n",
       "  SVC(C=1.0, cache_size=200, class_weight=None, coef0=0.0,\n",
       "      decision_function_shape='ovr', degree=3, gamma=0.001, kernel='rbf',\n",
       "      max_iter=-1, probability=False, random_state=None, shrinking=True,\n",
       "      tol=0.001, verbose=False)),\n",
       " (3,\n",
       "  'RandomForest',\n",
       "  RandomForestClassifier(bootstrap=True, class_weight=None, criterion='gini',\n",
       "                         max_depth=None, max_features='auto', max_leaf_nodes=None,\n",
       "                         min_impurity_decrease=0.0, min_impurity_split=None,\n",
       "                         min_samples_leaf=1, min_samples_split=2,\n",
       "                         min_weight_fraction_leaf=0.0, n_estimators=50,\n",
       "                         n_jobs=None, oob_score=False, random_state=None,\n",
       "                         verbose=0, warm_start=False)),\n",
       " (4,\n",
       "  'Logistic',\n",
       "  LogisticRegression(C=0.1, class_weight=None, dual=False, fit_intercept=True,\n",
       "                     intercept_scaling=1, l1_ratio=None, max_iter=100,\n",
       "                     multi_class='warn', n_jobs=None, penalty='l2',\n",
       "                     random_state=None, solver='lbfgs', tol=0.0001, verbose=0,\n",
       "                     warm_start=False))]"
      ]
     },
     "execution_count": 37,
     "metadata": {},
     "output_type": "execute_result"
    }
   ],
   "source": [
    "[*zip(range(len(title)),title,model)]"
   ]
  },
  {
   "cell_type": "code",
   "execution_count": 47,
   "metadata": {},
   "outputs": [
    {
     "name": "stdout",
     "output_type": "stream",
     "text": [
      "Naive Bayes:00:04:002264\n",
      "DecisionTree:00:02:196126\n",
      "SVM, RBF kernel:00:11:328702\n",
      "RandomForest:00:17:230948\n",
      "Logistic:00:56:406110\n"
     ]
    },
    {
     "data": {
      "image/png": "[encoded data removed]",
      "text/plain": [
       "<Figure size 2160x432 with 5 Axes>"
      ]
     },
     "metadata": {
      "needs_background": "light"
     },
     "output_type": "display_data"
    }
   ],
   "source": [
    "fig,axes = plt.subplots(1,5,figsize=(30,6))\n",
    "for ind,title_,estimator in zip(range(len(title)),title,model):\n",
    "    times=time()\n",
    "    plot_learning_curve(estimator,title_,x,y,ax=axes[ind],ylim=[0.7,1.05],n_jobs=4,cv=cv)\n",
    "    print(\"{}:{}\".format(title_,datetime.datetime.fromtimestamp(time()-times).strftime(\"%M:%S:%f\")))\n",
    "plt.show()    "
   ]
  },
  {
   "cell_type": "code",
   "execution_count": null,
   "metadata": {},
   "outputs": [],
   "source": [
    "#少量的样本时,bayes会好点,样本越多计算的概率越多,准确率下降,且难用调参优化; bayes速度较快,高维度数据计算速度有优势\n",
    "#决策树容易过拟合,但可以通过调参,剪枝等优化"
   ]
  }
 ],
 "metadata": {
  "kernelspec": {
   "display_name": "Python 3",
   "language": "python",
   "name": "python3"
  },
  "language_info": {
   "codemirror_mode": {
    "name": "ipython",
    "version": 3
   },
   "file_extension": ".py",
   "mimetype": "text/x-python",
   "name": "python",
   "nbconvert_exporter": "python",
   "pygments_lexer": "ipython3",
   "version": "3.7.4"
  }
 },
 "nbformat": 4,
 "nbformat_minor": 4
}
